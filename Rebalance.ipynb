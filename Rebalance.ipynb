{
 "cells": [
  {
   "cell_type": "code",
   "execution_count": 11,
   "metadata": {},
   "outputs": [],
   "source": [
    "import os\n",
    "import sys\n",
    "import ccxt\n",
    "import pandas as pd\n",
    "import collections\n",
    "\n",
    "file = \"C:/Users/Carter Carlson/Documents/Excel references/secret.csv\"\n",
    "api = pd.read_csv(file)\n",
    "\n",
    "binance = ccxt.binance({\n",
    "    'options':{'adjustForTimeDifference':True},\n",
    "    'apiKey': api['apiKey'][0],\n",
    "    'secret': api['secret'][0]\n",
    "})\n",
    "\n",
    "balance = binance.fetchBalance()\n",
    "coins = ['BTC', 'ETH', 'XRP', 'OMG']\n",
    "\n",
    "data = pd.DataFrame(columns=['symbol', 'quantity', 'price', 'dollar_value'])\n",
    "btc_price = float(binance.fetch_ticker('BTC/USDT')['info']['lastPrice'])\n",
    "total_value = 0\n",
    "\n",
    "for coin in coins:\n",
    "    quantity = balance[coin]['total']\n",
    "    \n",
    "    if coin == 'BTC':\n",
    "        price = btc_price\n",
    "    else:\n",
    "        btc_ratio = float(binance.fetch_ticker(coin + '/BTC')['info']['lastPrice'])\n",
    "        price = btc_ratio * btc_price\n",
    "\n",
    "    dollar_value = quantity * price\n",
    "    total_value += dollar_value\n",
    "\n",
    "    data = data.append({'symbol': coin,\n",
    "                        'quantity': quantity,\n",
    "                        'price': price,\n",
    "                        'dollar_value': dollar_value},\n",
    "                      ignore_index=True)\n",
    "\n",
    "data['weight'] = list(map(lambda x: x / total_value, data['dollar_value']))"
   ]
  },
  {
   "cell_type": "code",
   "execution_count": null,
   "metadata": {},
   "outputs": [],
   "source": [
    "# test here for nonexistent ticker\n",
    "try:\n",
    "    binance.fetch_ticker('BTC/XRP')['info']['lastPrice']\n",
    "    print('A works')\n",
    "except:\n",
    "    binance.fetch_ticker('XRP/BTC')['info']['lastPrice']\n",
    "    print('B works')"
   ]
  },
  {
   "cell_type": "code",
   "execution_count": null,
   "metadata": {},
   "outputs": [],
   "source": [
    "data['weight'] = list(map(lambda x: x / total_value, data['dollar_value']))\n",
    "data[data['weight'] > .2]\n",
    "\n",
    "index_max = data['weight'].index(max(data['weight']))\n",
    "index_min = data['weight'].index(min(data['weight']))\n",
    "\n",
    "if data['weight'][index_max] - data['weight'][index_min] > .05:\n",
    "    weight_to_sell = (data['weight'][index_max] - data['weight'][index_min]) / 2\n",
    "    \n",
    "  \n",
    "    try:\n",
    "        side = 'sell'\n",
    "        test_ticker = data['symbol'][index_max] + '/' + data['symbol'][index_min]\n",
    "        selling_coin_quantity = (weight_to_sell * total_value) / data['price'][index_max]\n",
    "        # note: if fails at selling_coin_quantity, move test_price outside try\n",
    "        test_price = float(binance.fetch_ticker(test_ticker)['info']['lastPrice'])\n",
    "\n",
    "    except:\n",
    "        side = 'buy'\n",
    "        test_ticker = data['symbol'][index_min] + '/' + data['symbol'][index_max]\n",
    "        selling_coin_quantity = weight to sell * total_value / data['price'][index_min]\n",
    "\n",
    "        test_price = float(binance.fetch_ticker(test_ticker)['info']['lastPrice'])\n",
    "        \n",
    "    binance.create_order(test_ticker, 'market', side, selling_coin_quantity)\n",
    "\n",
    "# Note: see difference between using market or limit orders-\n",
    "#     a. Does limit have automatic setting?\n",
    "#     b. Different fees for limit or market?\n",
    "#     c. What happens if limit doesn't fill"
   ]
  }
 ],
 "metadata": {
  "kernelspec": {
   "display_name": "Python 3",
   "language": "python",
   "name": "python3"
  },
  "language_info": {
   "codemirror_mode": {
    "name": "ipython",
    "version": 3
   },
   "file_extension": ".py",
   "mimetype": "text/x-python",
   "name": "python",
   "nbconvert_exporter": "python",
   "pygments_lexer": "ipython3",
   "version": "3.6.5"
  }
 },
 "nbformat": 4,
 "nbformat_minor": 2
}
