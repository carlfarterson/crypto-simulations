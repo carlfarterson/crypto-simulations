{
 "cells": [
  {
   "cell_type": "code",
   "execution_count": 2,
   "metadata": {},
   "outputs": [],
   "source": [
    "import os\n",
    "import sys\n",
    "import ccxt\n",
    "import pandas as pd"
   ]
  },
  {
   "cell_type": "code",
   "execution_count": 81,
   "metadata": {},
   "outputs": [],
   "source": [
    "def update_coin_data(coins):\n",
    "    exchange = ccxt.binance({\n",
    "        'options': {'adjustForTimeDifference': True},\n",
    "        'apiKey': api['apiKey'][0],\n",
    "        'secret': api['secret'][0]\n",
    "    })\n",
    "    balance = exchange.fetchBalance()\n",
    "    btc_price = float(exchange.fetch_ticker('BTC/USDT')['info']['lastPrice'])\n",
    "    df = pd.DataFrame(columns=['symbol', 'quantity', 'price', 'dollar_value'])\n",
    "    \n",
    "    for coin in coins:\n",
    "        quantity = balance[coin]['total']\n",
    "        if coin == 'BTC':\n",
    "            price = btc_price\n",
    "        else:\n",
    "            btc_ratio = float(exchange.fetch_ticker(coin + '/BTC')['info']['lastPrice'])\n",
    "            price = btc_ratio * btc_price\n",
    "        \n",
    "        dollar_value = quantity * price\n",
    "        df = df.append({'symbol': coin,'quantity':quantity,'price':price,'dollar_value':dollar_value}, ignore_index=True)\n",
    "    \n",
    "    df['weight'] = list(map(lambda x: x / df['dollar_value'].sum(), df['dollar_value']))\n",
    "    df = df.sort_values('weight', ascending=False).reset_index(drop=True)\n",
    "    return df"
   ]
  },
  {
   "cell_type": "code",
   "execution_count": 43,
   "metadata": {},
   "outputs": [],
   "source": [
    "def rebalance_order(coin1, coin2):\n",
    "    try:\n",
    "        exchange.fetch_ticker(coin1 + '/' + coin2)['info']\n",
    "        return coin1 + '/' + coin2, 'sell'\n",
    "    except:\n",
    "        try:\n",
    "            exchange.fetch_ticker(coin2 + '/' + coin1)['info']\n",
    "            return coin2 + '/' + coin1, 'buy'\n",
    "        except:            \n",
    "            return coin1 + '/BTC', 'sell', coin2 + '/BTC', 'buy' # Note: could coin2 be 'BTC/' + coin/sell?"
   ]
  },
  {
   "cell_type": "code",
   "execution_count": null,
   "metadata": {},
   "outputs": [],
   "source": [
    "def bnb_order(coin):\n",
    "    # buy 2 BNB for lower transaction fees if we have less than 1 BNB\n",
    "    # uses coin with largest value in portfolio\n",
    "    if balance['BNB']['total'] < 1:\n",
    "        return\n",
    "    if coin != 'BTC':\n",
    "        bnb_btc = 2 * float(exchange.fetch_ticker('BNB/BTC')['info']['lastPrice'])\n",
    "        coin_btc = float(exchange.fetch_ticker(coin + '/BTC')['info']['lastPrice'])\n",
    "        quantity = bnb_btc / coin_btc\n",
    "        exchange.create_order(coin + '/BTC', 'market', 'sell', quantity)\n",
    "        \n",
    "    exchange.create_order('BNB/BTC', 'market', 'buy', 2)\n",
    "    print(\"Purchased 2 BNB with {:0.3f} {}\".format(quantity, coin))"
   ]
  },
  {
   "cell_type": "code",
   "execution_count": 84,
   "metadata": {
    "collapsed": true
   },
   "outputs": [
    {
     "name": "stdout",
     "output_type": "stream",
     "text": [
      "  symbol     quantity        price  dollar_value    weight\n",
      "0    XRP  4064.319000     0.447084   1817.093215  0.262441\n",
      "1    OMG   305.030000     5.944250   1813.174577  0.261875\n",
      "2    ETH     4.005586   422.670690   1693.043634  0.244525\n",
      "3    BTC     0.208670  7670.000000   1600.496906  0.231158\n"
     ]
    }
   ],
   "source": [
    "file = \"C:/Users/Carter Carlson/Documents/Excel References/secret.csv\"\n",
    "api = pd.read_csv(file)\n",
    "\n",
    "coins = []\n",
    "for asset in balance['info']['balances']:\n",
    "    if float(asset['free']) > 0:\n",
    "        coins.append(asset['asset'])\n",
    "coins.remove('BNB')\n",
    "\n",
    "n = 1/len(coins)\n",
    "thresh = .2\n",
    "\n",
    "data = update_coin_data(coins)\n",
    "#bnb_order(data['symbol'][0])\n",
    "\n",
    "i = 1\n",
    "while data['weight'][0] - data['weight'][len(data) - 1] > 2 * n * thresh:\n",
    "#while not data[data['weight'] > (n + thresh * n)].empty:\n",
    "    exchange = ccxt.binance({\n",
    "        'options': {'adjustForTimeDifference': True},\n",
    "        'apiKey': api['apiKey'][0],\n",
    "        'secret': api['secret'][0]\n",
    "    })\n",
    "    \n",
    "    order = rebalance_order(data['symbol'][0], data['symbol'][len(data) - 1])\n",
    "    total_value = data['dollar_value'].sum()\n",
    "    weight_to_move = (data['weight'][0] - data['weight'][len(data) - 1]) / 2\n",
    "    quantity = round(weight_to_move * total_value / data[data['symbol'] == order[0][:3]]['price'].values[0], 5)\n",
    "    exchange.create_order(order[0], 'market', order[1], quantity)\n",
    "    print(order[0], order[1], quantity)\n",
    "    \n",
    "    if len(order) > 2:\n",
    "        quantity = round(weight_to_move * total_value / data[data['symbol'] == order[2][:3]]['price'].values[0], 5)\n",
    "        exchange.create_order(order[2], 'market', order[3], quantity)\n",
    "        print(order[2], order[3], quantity)\n",
    "    \n",
    "    data = update_coin_data(coins)\n",
    "    print('Balance after rebalance #', i, '\\n', data)\n",
    "    i += 1\n",
    "    if i == 5:\n",
    "        break\n",
    "\n",
    "# Note: base rebalancing on sdev instead of baseline %?"
   ]
  },
  {
   "cell_type": "code",
   "execution_count": null,
   "metadata": {},
   "outputs": [],
   "source": [
    "8/2/2018\n",
    "\n",
    "symbol     quantity        price  dollar_value    weight\n",
    "0    XRP  4064.319000     0.447084   1817.093215  0.262441\n",
    "1    OMG   305.030000     5.944250   1813.174577  0.261875\n",
    "2    ETH     4.005586   422.670690   1693.043634  0.244525\n",
    "3    BTC     0.208670  7670.000000   1600.496906  0.231158"
   ]
  },
  {
   "cell_type": "markdown",
   "metadata": {},
   "source": [
    "math proof-\n",
    "*  4 coins all 25%\n",
    "\n",
    "1. Top coin goes to 35%, bottom two go to 22.5 and 17.5\n",
    "\n",
    "    a. take half of 10% gained, move the 5% to 17.5\n",
    "    \n",
    "    b. move all 10% gained to 17.5\n",
    "    \n",
    "    c. move 7.5 gained to 17.5, 2.5 to 22.5\n",
    "    \n",
    "2. Top coin is a certain % more weight than bottom coin\n"
   ]
  }
 ],
 "metadata": {
  "kernelspec": {
   "display_name": "Python 3",
   "language": "python",
   "name": "python3"
  },
  "language_info": {
   "codemirror_mode": {
    "name": "ipython",
    "version": 3
   },
   "file_extension": ".py",
   "mimetype": "text/x-python",
   "name": "python",
   "nbconvert_exporter": "python",
   "pygments_lexer": "ipython3",
   "version": "3.6.5"
  }
 },
 "nbformat": 4,
 "nbformat_minor": 2
}
