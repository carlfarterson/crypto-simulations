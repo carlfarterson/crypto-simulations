{
 "cells": [
  {
   "cell_type": "code",
   "execution_count": null,
   "metadata": {},
   "outputs": [],
   "source": [
    "import os\n",
    "import sys\n",
    "import ccxt\n",
    "import pandas as pd"
   ]
  },
  {
   "cell_type": "code",
   "execution_count": null,
   "metadata": {},
   "outputs": [],
   "source": [
    "def update_coin_data(coins):\n",
    "    file = \"\" # fill this\n",
    "    api = pd.read_csv(file)\n",
    "    binance = ccxt.binance({\n",
    "        'options': {'adjustForTimeDifference': True},\n",
    "        'apiKey': api['apiKey'][0],\n",
    "        'secret': api['secret'][0]\n",
    "    })\n",
    "    \n",
    "    balance = binance.fetchBalance()    \n",
    "    btc_price = float(binance.fetch_ticker('BTC/USDT')['info']['lastPrice'])\n",
    "    df = pd.DataFrame(columns=['symbol', 'quantity', 'price', 'dollar_value'])\n",
    "    \n",
    "    for coin in coins:\n",
    "        quantity = balance[coin]['total']\n",
    "        if coin == 'BTC':\n",
    "            price = btc_price\n",
    "        else:\n",
    "            btc_ratio = float(binance.fetch_ticker(coin + '/BTC')['info']['lastPrice'])\n",
    "            price = btc_ratio * btc_price\n",
    "        \n",
    "        dollar_value = quantity * price\n",
    "        df = df.append({'symbol': coin,'quantity':quantity,'price':price,'dollar_value':dollar_value}, ignore_index=True)\n",
    "    \n",
    "    df['weight'] = list(map(lambda x: x / df['dollar_value'].sum(), df['dollar_value']))\n",
    "    df = df.sort_values('weight', ascending=False).reset_index(drop=True)\n",
    "    return df"
   ]
  },
  {
   "cell_type": "code",
   "execution_count": null,
   "metadata": {},
   "outputs": [],
   "source": [
    "def get_order(coin1, coin2):\n",
    "    try:\n",
    "        binance.fetch_ticker(coin1 + '/' + coin2)['info']\n",
    "        return coin1 + '/' + coin2, 'sell'\n",
    "    except:\n",
    "        try:\n",
    "            binance.fetch_ticker(coin2 + '/' + coin1)['info']\n",
    "            return coin2 + '/' + coin1, 'buy'\n",
    "        except:\n",
    "            # Note: is sell/buy in correct order to sell heavy coin using XRP/BTC? or should sell/buy be switched\n",
    "            return coin1 + '/BTC', 'sell', coin2 + '/BTC', 'buy'"
   ]
  },
  {
   "cell_type": "code",
   "execution_count": null,
   "metadata": {},
   "outputs": [],
   "source": [
    "coins = ['BTC', 'ETH', 'XRP', 'OMG']\n",
    "n = 1/len(coins)\n",
    "thresh = .2 # percentage above average weight to trigger rebalance\n",
    "\n",
    "data = update_coin_data(coins)\n",
    "\n",
    "while not data[data['weight'] > (n + thresh * n)].empty:\n",
    "    \n",
    "    order = get_order(data['symbol'][0], data['symbol'][len(data) - 1])\n",
    "    total_value = data['dollar_value'].sum()\n",
    "    weight_to_move = (data['weight'][0] - data['weight'][len(data) - 1]) / 2\n",
    "    quantity = round(weight_to_move * total_value / data[data['symbol'] == order[0][:3]]['price'].values[0], 5)\n",
    "    \n",
    "    binance.create_order(order[0], 'market', order[1], quantity)\n",
    "    \n",
    "    if len(order) > 2:\n",
    "        quantity = round(weight_to_move * total_value / data[data['symbol'] == order[2][:3]]['price'].values[0], 5)\n",
    "        \n",
    "        binance.create_order(order[2], 'market', order[3], quantity)"
   ]
  },
  {
   "cell_type": "code",
   "execution_count": null,
   "metadata": {},
   "outputs": [],
   "source": [
    "num_coins_over = len(data[data['weight'] > .3])\n",
    "\n",
    "for i in range(num_coins_over):\n",
    "    order = get_order(data['symbol'][i], data['symbol'][len(data) - 1])\n",
    "    \n",
    "    weight_to_sell = (data['weight'][i] - data['weight'].min()) / 2 # note: issue if two coins have same min?\n",
    "    quantity = round(weight_to_sell * total_value / data[data['symbol'] == order[0][:3]]['price'].values[0], 5)\n",
    "\n",
    "    print(order[0], order[1], quantity)\n",
    "    #binance.create_order(order[0], 'market', order[1], quantity)\n",
    "    \n",
    "    if len(order) > 2:\n",
    "        quantity = round(weight_to_sell * total_value / data[data['symbol'] == order[2][:3]]['price'].values[0], 5)\n",
    "        \n",
    "        print(order[2], order[3], quantity)   \n",
    "        #binance.create_order(order[2], 'market', order[3], quantity)\n",
    "data"
   ]
  },
  {
   "cell_type": "code",
   "execution_count": null,
   "metadata": {},
   "outputs": [],
   "source": [
    "binance = ccxt.binance()\n",
    "total_value = 10000\n",
    "data = {'symbol':['BTC', 'ETH', 'XRP', 'OMG'],\n",
    "        'quantity':[0.22751, 5.25, 7722, 200], \n",
    "        'price': [7688, 431.86, .431, 6.058],\n",
    "        'dollar_value': [1749, 2268, 3331, 1211],\n",
    "        'weight': [.204, .265, .389, .142]}\n",
    "        #'weight': [.204, .265, .389, .142]}\n",
    "data = pd.DataFrame(data)\n",
    "data = data.sort_values(by='weight', ascending=False).reset_index(drop=True)"
   ]
  },
  {
   "cell_type": "markdown",
   "metadata": {},
   "source": [
    "math proof-\n",
    "1. 4 coins all 25%\n",
    "2. Top coin goes to 35%, bottom two go to 22.5 and 17.5\n",
    "3. Best to...\n",
    "    a. take half of 10% gained, move the 5% to 17.5\n",
    "    b. move all 10% gained to 17.5\n",
    "    c. move 7.5 gained to 17.5, 2.5 to 22.5\n",
    "    \n"
   ]
  }
 ],
 "metadata": {
  "kernelspec": {
   "display_name": "Python 3",
   "language": "python",
   "name": "python3"
  },
  "language_info": {
   "codemirror_mode": {
    "name": "ipython",
    "version": 3
   },
   "file_extension": ".py",
   "mimetype": "text/x-python",
   "name": "python",
   "nbconvert_exporter": "python",
   "pygments_lexer": "ipython3",
   "version": "3.6.5"
  }
 },
 "nbformat": 4,
 "nbformat_minor": 2
}
