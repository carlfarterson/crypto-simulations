{
 "cells": [
  {
   "cell_type": "code",
   "execution_count": 1,
   "metadata": {},
   "outputs": [],
   "source": [
    "import os\n",
    "import sys\n",
    "import ccxt\n",
    "import pandas as pd"
   ]
  },
  {
   "cell_type": "code",
   "execution_count": null,
   "metadata": {},
   "outputs": [],
   "source": [
    "def update_coin_data(coins):\n",
    "    file = \"\" # fill this\n",
    "    api = pd.read_csv(file)\n",
    "    binance = ccxt.binance({\n",
    "        'options': {'adjustForTimeDifference': True},\n",
    "        'apiKey': api['apiKey'][0],\n",
    "        'secret': api['secret'][0]\n",
    "    })\n",
    "    \n",
    "    balance = binance.fetchBalance()    \n",
    "    btc_price = float(binance.fetch_ticker('BTC/USDT')['info']['lastPrice'])\n",
    "    df = pd.DataFrame(columns=['symbol', 'quantity', 'price', 'dollar_value'])\n",
    "    \n",
    "    for coin in coins:\n",
    "        quantity = balance[coin]['total']\n",
    "        if coin == 'BTC':\n",
    "            price = btc_price\n",
    "        else:\n",
    "            btc_ratio = float(binance.fetch_ticker(coin + '/BTC')['info']['lastPrice'])\n",
    "            price = btc_ratio * btc_price\n",
    "        \n",
    "        dollar_value = quantity * price\n",
    "        df = df.append({'symbol': coin,'quantity':quantity,'price':price,'dollar_value':dollar_value}, ignore_index=True)\n",
    "    \n",
    "    df['weight'] = list(map(lambda x: x / df['dollar_value'].sum(), df['dollar_value']))\n",
    "    df = df.sort_values('weight', ascending=False).reset_index(drop=True)\n",
    "    return df"
   ]
  },
  {
   "cell_type": "code",
   "execution_count": null,
   "metadata": {},
   "outputs": [],
   "source": [
    "def rebalance_order(coin1, coin2):\n",
    "    try:\n",
    "        binance.fetch_ticker(coin1 + '/' + coin2)['info']\n",
    "        return coin1 + '/' + coin2, 'sell'\n",
    "    except:\n",
    "        try:\n",
    "            binance.fetch_ticker(coin2 + '/' + coin1)['info']\n",
    "            return coin2 + '/' + coin1, 'buy'\n",
    "        except:            \n",
    "            return coin1 + '/BTC', 'sell', coin2 + '/BTC', 'buy' # Note: could coin2 be 'BTC/' + coin/sell?"
   ]
  },
  {
   "cell_type": "code",
   "execution_count": null,
   "metadata": {},
   "outputs": [],
   "source": [
    "def bnb_order(coin):\n",
    "    # Note: is buy/sell correct?\n",
    "    if balance['bnb']['total'] < 1:\n",
    "        return\n",
    "    try:\n",
    "        ratio = binance.fetch_ticker(coin + '/BNB')['info']\n",
    "        binance.create_order(coin + '/BNB', 'market', 'sell', quantity???)\n",
    "    except:\n",
    "        try:\n",
    "            ratio = binance.fetch_ticker('BNB/' + coin)['info']\n",
    "            binance.create_order('BNB/' + coin, 'market', 'buy???', quantity???)\n",
    "        except:\n",
    "            binance.create_order(coin + '/BTC', 'market', 'sell', quantity?) # get bnb to btc ratio? or coin/btc ratio?\n",
    "            binance.create_order(?) # use BNB/BTC"
   ]
  },
  {
   "cell_type": "code",
   "execution_count": null,
   "metadata": {},
   "outputs": [],
   "source": [
    "coins = ['BTC', 'ETH', 'XRP', 'OMG']\n",
    "n = 1/len(coins)\n",
    "thresh = .2 # percentage above average weight to trigger rebalance\n",
    "data = update_coin_data(coins)\n",
    "\n",
    "# Rebalance coins\n",
    "while not data[data['weight'] > (n + thresh * n)].empty:\n",
    "    order = rebalance_order(data['symbol'][0], data['symbol'][len(data) - 1])\n",
    "    total_value = data['dollar_value'].sum()\n",
    "    weight_to_move = (data['weight'][0] - data['weight'][len(data) - 1]) / 2\n",
    "    quantity = round(weight_to_move * total_value / data[data['symbol'] == order[0][:3]]['price'].values[0], 5)\n",
    "    binance.create_order(order[0], 'market', order[1], quantity)\n",
    "    \n",
    "    if len(order) > 2:\n",
    "        quantity = round(weight_to_move * total_value / data[data['symbol'] == order[2][:3]]['price'].values[0], 5)\n",
    "        binance.create_order(order[2], 'market', order[3], quantity)\n",
    "        \n",
    "# rebalance bnb\n",
    "bnb_order(data['symbol'][0])\n",
    "    "
   ]
  },
  {
   "cell_type": "markdown",
   "metadata": {},
   "source": [
    "math proof-\n",
    "1. 4 coins all 25%\n",
    "2. Top coin goes to 35%, bottom two go to 22.5 and 17.5\n",
    "3. Best to...\n",
    "\n",
    "    a. take half of 10% gained, move the 5% to 17.5\n",
    "    \n",
    "    b. move all 10% gained to 17.5\n",
    "    \n",
    "    c. move 7.5 gained to 17.5, 2.5 to 22.5\n",
    "    \n"
   ]
  }
 ],
 "metadata": {
  "kernelspec": {
   "display_name": "Python 3",
   "language": "python",
   "name": "python3"
  },
  "language_info": {
   "codemirror_mode": {
    "name": "ipython",
    "version": 3
   },
   "file_extension": ".py",
   "mimetype": "text/x-python",
   "name": "python",
   "nbconvert_exporter": "python",
   "pygments_lexer": "ipython3",
   "version": "3.6.5"
  }
 },
 "nbformat": 4,
 "nbformat_minor": 2
}
