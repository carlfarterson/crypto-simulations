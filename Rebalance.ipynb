{
 "cells": [
  {
   "cell_type": "code",
   "execution_count": 1,
   "metadata": {},
   "outputs": [],
   "source": [
    "import os\n",
    "import sys\n",
    "import ccxt\n",
    "import pandas as pd\n",
    "\n",
    "def update_data(coins):\n",
    "    btc_price = float(exchange.fetch_ticker('BTC/USDT')['info']['lastPrice'])\n",
    "    df = pd.DataFrame(columns=['symbol', 'quantity', 'price', 'dollar_value'])\n",
    "    \n",
    "    for coin in coins:\n",
    "        quantity = balance[coin]['total']\n",
    "        if coin == 'BTC':\n",
    "            price = btc_price\n",
    "        else:\n",
    "            btc_ratio = float(exchange.fetch_ticker(coin + '/BTC')['info']['lastPrice'])\n",
    "            price = btc_ratio * btc_price\n",
    "        \n",
    "        dollar_value = quantity * price\n",
    "        df = df.append({'symbol': coin,'quantity':quantity,'price':price,'dollar_value':dollar_value}, ignore_index=True)\n",
    "    \n",
    "    df['weight'] = list(map(lambda x: x / df['dollar_value'].sum(), df['dollar_value']))\n",
    "    df = df.sort_values('weight', ascending=False).reset_index(drop=True)\n",
    "    return df\n",
    "\n",
    "def rebalance_order(coin1, coin2):\n",
    "    try:\n",
    "        exchange.fetch_ticker(coin1 + '/' + coin2)['info']\n",
    "        return coin1 + '/' + coin2, 'sell'\n",
    "    except:\n",
    "        try:\n",
    "            exchange.fetch_ticker(coin2 + '/' + coin1)['info']\n",
    "            return coin2 + '/' + coin1, 'buy'\n",
    "        except:            \n",
    "            return coin1 + '/BTC', 'sell', coin2 + '/BTC', 'buy' # Note: could coin2 be 'BTC/' + coin/sell?\n",
    "        \n",
    "def bnb_order(coin):\n",
    "    if balance['BNB']['total'] < 1:\n",
    "        return\n",
    "    if coin != 'BTC':\n",
    "        bnb_btc = 2 * float(exchange.fetch_ticker('BNB/BTC')['info']['lastPrice'])\n",
    "        coin_btc = float(exchange.fetch_ticker(coin + '/BTC')['info']['lastPrice'])\n",
    "        quantity = bnb_btc / coin_btc\n",
    "        exchange.create_order(coin + '/BTC', 'market', 'sell', quantity)\n",
    "        \n",
    "    exchange.create_order('BNB/BTC', 'market', 'buy', 2)\n",
    "    print(\"Purchased 2 BNB with {:0.3f} {}\".format(quantity, coin))"
   ]
  },
  {
   "cell_type": "code",
   "execution_count": 4,
   "metadata": {},
   "outputs": [],
   "source": [
    "file = \"C:/Users/Carter Carlson/Documents/Excel References/secret.csv\"\n",
    "api = pd.read_csv(file)\n",
    "exchange = ccxt.binance({'options': {'adjustForTimeDifference': True},'apiKey': api['apiKey'][0],'secret': api['secret'][0]}) \n",
    "balance = exchange.fetchBalance()\n",
    "coins = []\n",
    "[coins.append(asset['asset']) for asset in balance['info']['balances'] if float(asset['free']) > 0]\n",
    "data = update_data(coins)"
   ]
  },
  {
   "cell_type": "code",
   "execution_count": 68,
   "metadata": {},
   "outputs": [
    {
     "data": {
      "text/plain": [
       "'08/09/2018'"
      ]
     },
     "execution_count": 68,
     "metadata": {},
     "output_type": "execute_result"
    }
   ],
   "source": [
    "a = datetime.now()\n",
    "a.strftime('%m/%d/%Y')"
   ]
  },
  {
   "cell_type": "code",
   "execution_count": 77,
   "metadata": {},
   "outputs": [
    {
     "name": "stdout",
     "output_type": "stream",
     "text": [
      "2018-08-09 17:41:48.744137\n"
     ]
    }
   ],
   "source": [
    "print(datetime.now())"
   ]
  },
  {
   "cell_type": "code",
   "execution_count": 10,
   "metadata": {},
   "outputs": [],
   "source": [
    "file = \"C:/Users/Carter Carlson/Documents/Excel References/secret.csv\"\n",
    "api = pd.read_csv(file)\n",
    "exchange = ccxt.binance({'options': {'adjustForTimeDifference': True},'apiKey': api['apiKey'][0],'secret': api['secret'][0]}) \n",
    "balance = exchange.fetchBalance()\n",
    "coins = []\n",
    "[coins.append(asset['asset']) for asset in balance['info']['balances'] if float(asset['free']) > 0]\n",
    "\n",
    "data = update_data(coins)\n",
    "        \n",
    "n = 1/len(coins)\n",
    "thresh = .02\n",
    "i = 1\n",
    "\n",
    "while data['weight'][0] - data['weight'][len(data) - 1] > 2 * n * thresh:\n",
    "    \n",
    "    order = rebalance_order(data['symbol'][0], data['symbol'][len(data) - 1])\n",
    "    weight_to_move = (data['weight'][0] - data['weight'][len(data) - 1]) / 2\n",
    "    quantity = round(weight_to_move * data['dollar_value'].sum() / data[data['symbol'] == order[0][:3]]['price'].values[0], 5)\n",
    "    exchange.create_order(order[0], 'market', order[1], quantity)\n",
    "    \n",
    "    if len(order) > 2:\n",
    "        quantity = round(weight_to_move * data['dollar_value'].sum() / data[data['symbol'] == order[2][:3]]['price'].values[0], 5)\n",
    "        exchange.create_order(order[2], 'market', order[3], quantity)\n",
    "    \n",
    "    balance = exchange.fetchBalance()\n",
    "    data = update_data(coins)\n"
   ]
  }
 ],
 "metadata": {
  "kernelspec": {
   "display_name": "Python 3",
   "language": "python",
   "name": "python3"
  },
  "language_info": {
   "codemirror_mode": {
    "name": "ipython",
    "version": 3
   },
   "file_extension": ".py",
   "mimetype": "text/x-python",
   "name": "python",
   "nbconvert_exporter": "python",
   "pygments_lexer": "ipython3",
   "version": "3.6.5"
  }
 },
 "nbformat": 4,
 "nbformat_minor": 2
}
