{
 "cells": [
  {
   "cell_type": "markdown",
   "metadata": {},
   "source": [
    "# Coin Importance Analysis\n",
    "## By: Carter Carlson\n",
    "\n",
    "This report analyzes performance of rebalanced and HODL 10-coin portfolios from 7/31/17 to 7/31/18, after 1,000 simulations of randomly-selected portfolios.  All coins used in the analysis had a market cap above \\$70,000,000 on 7/31/17, and each portfolio had a starting balance of \\$5,000 that was evenly distributed.  \n",
    "\n",
    "The HODL simulations show portfolio performance over time if the coins are bought and held, while the rebalanced simulations would rebalance portfolios daily based on historical coin prices to evenly distrubute coin weight."
   ]
  },
  {
   "cell_type": "code",
   "execution_count": 49,
   "metadata": {},
   "outputs": [
    {
     "name": "stdout",
     "output_type": "stream",
     "text": [
      "Coins used in simulations: ['BTC' 'ETH' 'XRP' 'LTC' 'DASH' 'XEM' 'ETC' 'XMR' 'NEO' 'ZEC' 'QTUM'\n",
      " 'STEEM' 'WAVES' 'SC' 'GNO' 'LSK' 'GNT' 'REP' 'DOGE' 'SNT' 'XLM' 'GBYTE'\n",
      " 'DCR' 'FCT' 'DGB' 'OMG' 'BAT' 'PIVX' 'NXT']\n",
      "\n",
      "Date range used in simulations: 07/31/2017 - 07/30/2018\n"
     ]
    }
   ],
   "source": [
    "import time\n",
    "import pandas as pd\n",
    "import numpy as np\n",
    "import matplotlib.pyplot as plt\n",
    "import ccxt\n",
    "import os\n",
    "import seaborn as sns\n",
    "%matplotlib inline\n",
    "\n",
    "folder = 'C:/Users/Carter Carlson/Documents/Crypto/backtests/'\n",
    "historical_data = pd.read_csv(folder + 'historical prices.csv')\n",
    "coins = historical_data.columns.values[1:]\n",
    "\n",
    "start_date, end_date = historical_data['date'][0]/1000, historical_data['date'][len(historical_data)-1]/1000\n",
    "start_date= time.strftime('%m/%d/%Y', time.gmtime(start_date)) \n",
    "end_date = time.strftime('%m/%d/%Y', time.gmtime(end_date))\n",
    "\n",
    "print('Coins used in simulations: {}'.format(coins))"
   ]
  },
  {
   "cell_type": "code",
   "execution_count": 50,
   "metadata": {},
   "outputs": [],
   "source": [
    "hodl_df = pd.read_csv(folder + '10/10_HODL.csv')\n",
    "rebalanced_df = pd.read_csv(folder + '10/10_rebalanced.csv')\n",
    "\n",
    "sim_hodl = np.array(hodl_df[hodl_df.columns[1:]])\n",
    "sim_rebalance = np.array(rebalanced_df[rebalanced_df.columns[1:]])\n",
    "\n",
    "# Create dataframe with coin names as columns\n",
    "df = pd.DataFrame(columns=coins)\n",
    "\n",
    "# Add HODL and rebalance end price as feature\n",
    "df['end_hodl'] = sim_hodl[len(sim_hodl)-1]\n",
    "df['end_rebalance'] = sim_rebalance[len(sim_rebalance)-1]\n",
    "df['performance'] = (df['end_rebalance'] - df['end_hodl'])/df['end_hodl']\n",
    "df.loc[df['performance'] > 0, 'beat market'] = 1\n",
    "df.loc[df['performance'] <= 0, 'beat market'] = 0\n",
    "\n",
    "# Fill in empty columns with 0's\n",
    "df[coins] = 0\n",
    "\n",
    "cols = file1.columns.values[1:]\n",
    "coin_lists = [lst.split('-') for lst in cols]\n",
    "\n",
    "# Fill in dataframe with coins used for each simulation\n",
    "for i in range(len(coin_lists)):\n",
    "    for coin in coin_lists[i]:\n",
    "        df.loc[i, coin] = 1"
   ]
  },
  {
   "cell_type": "code",
   "execution_count": 53,
   "metadata": {},
   "outputs": [
    {
     "data": {
      "image/png": "[encoded data removed]",
      "text/plain": [
       "<Figure size 432x288 with 1 Axes>"
      ]
     },
     "metadata": {},
     "output_type": "display_data"
    }
   ],
   "source": [
    "from sklearn.ensemble import RandomForestClassifier\n",
    "\n",
    "tree = RandomForestClassifier()\n",
    "X = df[coins]\n",
    "Y = df['beat market']\n",
    "tree.fit(X, Y)\n",
    "\n",
    "# histogram of feature importance\n",
    "feature_importance = tree.feature_importances_\n",
    "feature_importance = 100 * (feature_importance / max(feature_importance))\n",
    "temp = feature_importance.tolist()\n",
    "top_feats = sorted(feature_importance,reverse=True)[:10]\n",
    "sorted_features = np.array([temp.index(feat) for feat in top_feats])\n",
    "pos = np.arange(sorted_features.shape[0]) + .5\n",
    "plt.barh(pos, feature_importance[sorted_features], align='center')\n",
    "plt.yticks(pos, X.columns[sorted_features])\n",
    "plt.title('Relative Influence on Performance')\n",
    "plt.show()"
   ]
  },
  {
   "cell_type": "markdown",
   "metadata": {},
   "source": [
    "From this, we can conclude that XLM has the strongest influence for a rebalanced portfolio to overperform or underperform their relative HODL portfolio.  However, we don't know if that influence is a positive factor or a negative factor."
   ]
  },
  {
   "cell_type": "code",
   "execution_count": 54,
   "metadata": {},
   "outputs": [
    {
     "name": "stdout",
     "output_type": "stream",
     "text": [
      "\n",
      "Average hodl result:  18558.72\n",
      "Average rebalanced result:  14803.16\n",
      "# rebalance sims that outperformed:  59\n",
      "# rebalance sims that underperformed:  311\n",
      "Percent of rebalance sims to outperform HODL:  0.16\n",
      "\n",
      "Average hodl result:  9910.89\n",
      "Average rebalanced result:  17355.13\n",
      "# rebalance sims that outperformed:  622\n",
      "# rebalance sims that underperformed:  8\n",
      "Percent of rebalance sims to outperform HODL:  0.99\n"
     ]
    }
   ],
   "source": [
    "# Make a dataset with XLM and one without - compare performance\n",
    "xlm_yes = [l for l in cols if 'XLM' in l]\n",
    "xlm_no = [l for l in cols if 'XLM' not in l]\n",
    "\n",
    "file3 = pd.read_csv(folder + '10/10_summary.csv')\n",
    "\n",
    "xlm_yes_df = file3.loc[file3['portfolio'].isin(xlm_yes)]\n",
    "xlm_no_df = file3.loc[file3['portfolio'].isin(xlm_no)]\n",
    "\n",
    "for a in [xlm_yes_df, xlm_no_df]:\n",
    "    diffs = a['end_price_rebalanced'] - a['end_price_HODL']\n",
    "    pos_returns = diffs[diffs>0]\n",
    "    neg_returns = diffs[diffs<0]\n",
    "\n",
    "    return_vs_hodl = diffs.mean() / a['end_price_HODL'].mean()\n",
    "\n",
    "    print('\\nAverage hodl result: ', round(a['end_price_HODL'].mean(), 2))\n",
    "    print('Average rebalanced result: ', round(a['end_price_rebalanced'].mean(), 2))\n",
    "    print('# rebalance sims that outperformed: ', len(pos_returns))\n",
    "    print('# rebalance sims that underperformed: ', len(neg_returns))\n",
    "    print('Percent of rebalance sims to outperform HODL: ', round((len(pos_returns)/(len(pos_returns) + len(neg_returns))),2))"
   ]
  },
  {
   "cell_type": "markdown",
   "metadata": {},
   "source": [
    "### Conclusion\n",
    "After comparing simulated portolios with XLM to simulated portfolios without XLM, I found that:\n",
    "\n",
    "* Rebalanced portfolios with XLM are most likely to underperform the respective HODL portfolio.\n",
    "\n",
    "* Rebalanced portfolios without XLM, on average, outperformed rebalanced portfolios with XLM.\n",
    "\n",
    "* Rebalancing a portfolio with XLM will only outperform their HODL counterport 16% of the time, while rebalancing a portfolio without XLM will outperform HODL 99% of the time."
   ]
  }
 ],
 "metadata": {
  "kernelspec": {
   "display_name": "Python 3",
   "language": "python",
   "name": "python3"
  }
 },
 "nbformat": 4,
 "nbformat_minor": 2
}
