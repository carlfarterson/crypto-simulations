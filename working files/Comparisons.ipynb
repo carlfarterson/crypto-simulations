{
 "cells": [
  {
   "cell_type": "code",
   "execution_count": 24,
   "metadata": {},
   "outputs": [],
   "source": [
    "import pandas as pd\n",
    "import numpy as np\n",
    "import matplotlib.pyplot as plt\n",
    "import ccxt\n",
    "import os\n",
    "import statistics\n",
    "from sklearn.ensemble import RandomForestClassifier\n",
    "import seaborn as sns\n",
    "%matplotlib inline"
   ]
  },
  {
   "cell_type": "code",
   "execution_count": 25,
   "metadata": {},
   "outputs": [],
   "source": [
    "location = 'C:/Users/Carter Carlson/Documents/Crypto/'\n",
    "historical_data = pd.read_csv(location + 'backtests/historical prices.csv')\n",
    "coins = historical_data.columns.values[1:]\n",
    "file1 = pd.read_csv(location + 'backtests/10/10_HODL.csv')\n",
    "file2 = pd.read_csv(location + 'backtests/10/10_rebalanced.csv')\n",
    "\n",
    "dates = historical_data['date'].tolist()"
   ]
  },
  {
   "cell_type": "code",
   "execution_count": 26,
   "metadata": {},
   "outputs": [],
   "source": [
    "hodl = np.array(file1[file1.columns[1:]])\n",
    "rebalance = np.array(file2[file2.columns[1:]])\n",
    "\n",
    "df = pd.DataFrame(columns=coins)\n",
    "\n",
    "# Add HODL and rebalance end price as feature\n",
    "df['end_hodl'] = hodl[len(hodl) - 1]\n",
    "df['end_rebalance'] = rebalance[len(rebalance) - 1]\n",
    "df['performance'] = (df['end_rebalance'] - df['end_hodl']) / df['end_hodl']\n",
    "\n",
    "df.loc[df['performance'] > 0, 'beat market'] = 1\n",
    "df.loc[df['performance'] <= 0, 'beat market'] = 0"
   ]
  },
  {
   "cell_type": "code",
   "execution_count": 28,
   "metadata": {},
   "outputs": [],
   "source": [
    "df[coins] = 0\n",
    "\n",
    "cols = file1.columns.values[1:]\n",
    "coin_lists = [lst.split('-') for lst in cols]\n",
    "\n",
    "# fill in dataframe with coins used for each simulation\n",
    "for i in range(len(coin_lists)):\n",
    "    for coin in coin_lists[i]:\n",
    "        df.loc[i, coin] = 1"
   ]
  },
  {
   "cell_type": "code",
   "execution_count": 29,
   "metadata": {},
   "outputs": [],
   "source": [
    "tree = RandomForestClassifier()\n",
    "X = df[coins]\n",
    "Y = df['beat market']\n",
    "tree.fit(X, Y)\n",
    "\n",
    "# Histogram of feature importance\n",
    "feature_importance = tree.feature_importances_\n",
    "feature_importance = 100 * (feature_importance / max(feature_importance))\n",
    "temp = feature_importance.tolist()\n",
    "top_feats = sorted(feature_importance, reverse=True)[:10]\n",
    "sorted_features = np.array([temp.index(feat) for feat in top_feats])\n",
    "pos = np.arange(sorted_features.shape[0]) + 0.5"
   ]
  },
  {
   "cell_type": "code",
   "execution_count": 36,
   "metadata": {},
   "outputs": [
    {
     "data": {
      "image/png": "[encoded data removed]",
      "text/plain": [
       "<Figure size 432x288 with 1 Axes>"
      ]
     },
     "metadata": {},
     "output_type": "display_data"
    }
   ],
   "source": [
    "plt.barh(pos, feature_importance[sorted_features], align='center')\n",
    "plt.yticks(pos, X.columns[sorted_features])\n",
    "plt.title('Most influential coins')\n",
    "plt.show()"
   ]
  },
  {
   "cell_type": "code",
   "execution_count": 51,
   "metadata": {},
   "outputs": [],
   "source": [
    "#Find simulations that included and did not include XLM\n",
    "xlm_yes = [s for s in file1.columns.values[1:] if 'XLM' in s]\n",
    "xlm_no = [s for s in file1.columns.values[1:] if 'XLM' not in s]\n",
    "\n",
    "# Make one dataset with XLM and one dataset without XLM - compare performance\n",
    "xlm_yes_df = file1[xlm_yes]\n",
    "xlm_no_df = file1[xlm_no] \n",
    "\n",
    "titles = ['Simulations with XLM', 'Simulations w/out XLM']\n",
    "\n",
    "file3 = pd.read_csv(location + 'backtests/10/10_summary.csv'_)\n",
    "for a in [xlm_yes_df, xlm_no_df]:\n",
    "    diffs = a['end_price_rebalanced']"
   ]
  },
  {
   "cell_type": "code",
   "execution_count": null,
   "metadata": {},
   "outputs": [],
   "source": []
  }
 ],
 "metadata": {
  "kernelspec": {
   "display_name": "Python 3",
   "language": "python",
   "name": "python3"
  }
 },
 "nbformat": 4,
 "nbformat_minor": 2
}
